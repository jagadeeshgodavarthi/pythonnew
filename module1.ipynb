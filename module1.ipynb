{
  "nbformat": 4,
  "nbformat_minor": 0,
  "metadata": {
    "colab": {
      "name": "module1.ipynb",
      "provenance": [],
      "collapsed_sections": [],
      "authorship_tag": "ABX9TyMjfcRkToR77cJcWYtpjjQc",
      "include_colab_link": true
    },
    "kernelspec": {
      "name": "python3",
      "display_name": "Python 3"
    },
    "language_info": {
      "name": "python"
    }
  },
  "cells": [
    {
      "cell_type": "markdown",
      "metadata": {
        "id": "view-in-github",
        "colab_type": "text"
      },
      "source": [
        "<a href=\"https://colab.research.google.com/github/jagadeeshgodavarthi/pythonnew/blob/module-1/module1.ipynb\" target=\"_parent\"><img src=\"https://colab.research.google.com/assets/colab-badge.svg\" alt=\"Open In Colab\"/></a>"
      ]
    },
    {
      "cell_type": "code",
      "execution_count": null,
      "metadata": {
        "colab": {
          "base_uri": "https://localhost:8080/"
        },
        "id": "5mck3s9pQcYu",
        "outputId": "c9894563-b8ed-4bb7-aafc-0f2846572362"
      },
      "outputs": [
        {
          "output_type": "stream",
          "name": "stdout",
          "text": [
            "enter the namejagadeesh\n",
            "jagadeesh\n"
          ]
        }
      ],
      "source": [
        "##Accept input from user and store it in variable and print the value\n",
        "\n",
        "name = input(\"enter the name\")\n",
        "\n",
        "print(name)"
      ]
    },
    {
      "cell_type": "code",
      "source": [
        "def leap_year(year):\n",
        "    if year % 400 == 0:\n",
        "        return True\n",
        "    if year % 100 == 0:\n",
        "        return False\n",
        "    if year % 4 == 0:\n",
        "        return True\n",
        "    return False\n",
        "\n",
        "def days_in_month(month, year):\n",
        "    if month in {1, 3, 5, 7, 8, 10, 12}:\n",
        "        return 31\n",
        "    if month == 2:\n",
        "        if leap_year(year):\n",
        "            return 29\n",
        "        return 28\n",
        "    return 30\n",
        "\n",
        "print(days_in_month(4, 2022))\n"
      ],
      "metadata": {
        "colab": {
          "base_uri": "https://localhost:8080/",
          "height": 135
        },
        "id": "Ww63bIlEVuk3",
        "outputId": "0a303ed7-c114-4e10-b543-8e6e789933b4"
      },
      "execution_count": null,
      "outputs": [
        {
          "output_type": "error",
          "ename": "IndentationError",
          "evalue": "ignored",
          "traceback": [
            "\u001b[0;36m  File \u001b[0;32m\"<ipython-input-8-5ab1ba6cd88d>\"\u001b[0;36m, line \u001b[0;32m6\u001b[0m\n\u001b[0;31m    if (a % i) == 0:\u001b[0m\n\u001b[0m                    ^\u001b[0m\n\u001b[0;31mIndentationError\u001b[0m\u001b[0;31m:\u001b[0m unindent does not match any outer indentation level\n"
          ]
        }
      ]
    },
    {
      "cell_type": "code",
      "source": [
        "a=int(input(\"enter the month number\"))\n",
        "b=[4,6,9,11]\n",
        "if a==2:\n",
        "   print(\"28\\29\")\n",
        "elif a in b:\n",
        "    print(\"30\")\n",
        "elif a>13 or a<1:\n",
        "      print(\"enter the correct choice\")\n",
        "else:\n",
        "     print(\"31\")"
      ],
      "metadata": {
        "colab": {
          "base_uri": "https://localhost:8080/"
        },
        "id": "BIkcgzZOeblQ",
        "outputId": "102feae9-0c4c-4570-deb4-72685aea7fa0"
      },
      "execution_count": null,
      "outputs": [
        {
          "output_type": "stream",
          "name": "stdout",
          "text": [
            "enter the month number4\n",
            "30\n"
          ]
        }
      ]
    },
    {
      "cell_type": "code",
      "source": [
        "a=input(\"enter a string\")\n",
        "b=a.split()\n",
        "for i in b:\n",
        "     if len(i)%2==0:\n",
        "            print(i)"
      ],
      "metadata": {
        "colab": {
          "base_uri": "https://localhost:8080/"
        },
        "id": "GLOPk758gI-I",
        "outputId": "e0ddacf5-5ee1-40cb-890c-e888013a67db"
      },
      "execution_count": null,
      "outputs": [
        {
          "output_type": "stream",
          "name": "stdout",
          "text": [
            "enter a string22\n",
            "22\n"
          ]
        }
      ]
    },
    {
      "cell_type": "code",
      "source": [
        "a=int(input(\"enter number 1: \"))\n",
        "b=int(input(\"enter number 2: \"))\n",
        "if a<b:\n",
        " print(i)\n",
        "else:\n",
        " for i in range(b,a-1,-1):\n",
        "  print(i)"
      ],
      "metadata": {
        "colab": {
          "base_uri": "https://localhost:8080/"
        },
        "id": "9HBCA7WXnn5w",
        "outputId": "a4928965-6106-4719-a19c-53d84aec5921"
      },
      "execution_count": null,
      "outputs": [
        {
          "output_type": "stream",
          "name": "stdout",
          "text": [
            "enter number 1: 22\n",
            "enter number 2: 33\n",
            "22\n"
          ]
        }
      ]
    },
    {
      "cell_type": "code",
      "source": [
        "##Conversion of one unit to another (such as hours to minutes, miles to km and etc)\n",
        "\n",
        "hours = int(input(\"Enter hour: \"))\n",
        "minutes = 60 * hours\n",
        "print (minutes)"
      ],
      "metadata": {
        "colab": {
          "base_uri": "https://localhost:8080/"
        },
        "id": "JRh7O6o6c3hm",
        "outputId": "d66c0045-0498-4681-cd63-52f6bdb871aa"
      },
      "execution_count": null,
      "outputs": [
        {
          "output_type": "stream",
          "name": "stdout",
          "text": [
            "Enter hour: 2\n",
            "120\n"
          ]
        }
      ]
    },
    {
      "cell_type": "code",
      "source": [
        "##5 different subject marks from user and displaying the grade of the student\n",
        "\n",
        "sub1=int(input(\"Enter marks of the first subject  \"))\n",
        "sub2=int(input(\"Enter marks of the second subject  \"))\n",
        "sub3=int(input(\"Enter marks of the third subject  \"))\n",
        "sub4=int(input(\"Enter marks of the fourth subject  \"))\n",
        "sub5=int(input(\"Enter marks of the fifth subject  \"))\n",
        "avg=(sub1+sub2+sub3+sub4+sub4)/5\n",
        "if(avg>=90):\n",
        "                                       print(\"Grade: A\")\n",
        "elif(avg>=80&avg<90):\n",
        "                                       print(\"Grade: B\")\n",
        "elif(avg>=70&avg<80):\n",
        "                                       print(\"Grade: C\")\n",
        "elif(avg>=60&avg<70):\n",
        "                                       print(\"Grade: D\")\n",
        "else:\n",
        "                                        print(\"Grade: F\")"
      ],
      "metadata": {
        "colab": {
          "base_uri": "https://localhost:8080/"
        },
        "id": "Eglexfk1Tx-Y",
        "outputId": "0e7a1ec0-a003-41d0-bb42-1708ae56bd9e"
      },
      "execution_count": null,
      "outputs": [
        {
          "output_type": "stream",
          "name": "stdout",
          "text": [
            "Enter marks of the first subject  93\n",
            "Enter marks of the second subject  99\n",
            "Enter marks of the third subject  91\n",
            "Enter marks of the fourth subject  97\n",
            "Enter marks of the fifth subject  93\n",
            "Grade: A\n"
          ]
        }
      ]
    },
    {
      "cell_type": "code",
      "source": [
        "##Use of print statements and use of (.format )for printing different data types\n",
        "a= \"RRR movie has been released\"\n",
        "b= \"i went RRR movie on sunday\"\n",
        "a=123\n",
        "b=\"hello {}\"\n",
        "print(b.format(a,b))\n"
      ],
      "metadata": {
        "id": "5NOxI0pFeb4B",
        "colab": {
          "base_uri": "https://localhost:8080/"
        },
        "outputId": "e9dc37f9-caff-42f4-d518-b063b2d91732"
      },
      "execution_count": null,
      "outputs": [
        {
          "output_type": "stream",
          "name": "stdout",
          "text": [
            "hello 123\n"
          ]
        }
      ]
    },
    {
      "cell_type": "code",
      "source": [
        "##Take 2 numbers as user input and add, multiply, divide, subtract and print\n",
        "a=int(input())\n",
        "b=int(input())\n",
        "add=a+b\n",
        "print(\"add\",add)\n",
        "multiply=a*b\n",
        "print(\"product\",multiply)\n",
        "divide=a/b\n",
        "print(\"divide\",divide)\n",
        "sub=a-b\n",
        "print(\"subtract\",sub)\n"
      ],
      "metadata": {
        "colab": {
          "base_uri": "https://localhost:8080/"
        },
        "id": "SX4u85KBgyXx",
        "outputId": "47ff7ef6-9ae8-4721-91fc-0caf03e7379f"
      },
      "execution_count": null,
      "outputs": [
        {
          "output_type": "stream",
          "name": "stdout",
          "text": [
            "10\n",
            "5\n",
            "add 15\n",
            "product 50\n",
            "divide 2.0\n",
            "subtract 5\n"
          ]
        }
      ]
    },
    {
      "cell_type": "code",
      "source": [
        "##Compute compound interest using loop for a certain principal and interest amount\n",
        "n=int(input(\"enter the principle amount :\"))\n",
        "rate=int(input(\"enter the rate :\"))\n",
        "years=int(input(\"enter the number of years :\"))\n",
        "for i in range(years):\n",
        "    n=n+((n*rate)/100)\n",
        "    print(n)"
      ],
      "metadata": {
        "colab": {
          "base_uri": "https://localhost:8080/"
        },
        "id": "YRkX2e9Tjdh4",
        "outputId": "8b1c6197-e076-4ec2-ba51-a9dd9c4efa8d"
      },
      "execution_count": null,
      "outputs": [
        {
          "output_type": "stream",
          "name": "stdout",
          "text": [
            "enter the principle amount :200\n",
            "enter the rate :6\n",
            "enter the number of years :2\n",
            "212.0\n",
            "224.72\n"
          ]
        }
      ]
    },
    {
      "cell_type": "code",
      "source": [
        "def palindrome (num):\n",
        "  final = num\n",
        "  temp = num\n",
        "  rev = 0\n",
        "  while (num > 0):\n",
        "    last = num % 10\n",
        "    rev = rev * 10 + last\n",
        "    num = num // 10\n",
        "  if (temp == rev):\n",
        "    print (final,\"is a palindrome.\")\n",
        "  else:\n",
        "    print (final,\"is not a palindrome.\")\n",
        "def armstrong (num):\n",
        "  sum = 0\n",
        "  temp = num\n",
        "  while temp > 0:\n",
        "   digit = temp % 10\n",
        "   sum += digit ** 3\n",
        "   temp //= 10\n",
        "  if num == sum:\n",
        "   print(num,\"is an Armstrong number\")\n",
        "  else:\n",
        "   print(num,\"is not an Armstrong number\")\n",
        "\n",
        "def perfect (num):\n",
        "  sum_v=0  \n",
        "  for i in range(1,num):  \n",
        "    if (num%i==0):  \n",
        "        sum_v=sum_v+i  \n",
        "  if(sum_v==num):  \n",
        "    print(num,\"is a perfect number\")  \n",
        "  else:  \n",
        "    print(num,\"is not a perfect number\")  \n",
        "\n",
        "\n",
        "num = int(input(\"Enter a number: \"))\n",
        "palindrome(num)\n",
        "armstrong (num)\n",
        "perfect (num)"
      ],
      "metadata": {
        "id": "ejRTl2eCfeBe"
      },
      "execution_count": null,
      "outputs": []
    },
    {
      "cell_type": "code",
      "source": [
        "##Usage of mathematical functions in python like math.ceil, floor, fabs, fmod, trunc,\n",
        "\n",
        "import math \n",
        "\n",
        "my_int = 4.5467\n",
        "print (math.ceil(my_int))"
      ],
      "metadata": {
        "colab": {
          "base_uri": "https://localhost:8080/"
        },
        "id": "HIE1Gg3bdGTQ",
        "outputId": "552f5436-2950-4a2a-c77a-847a25970a6f"
      },
      "execution_count": null,
      "outputs": [
        {
          "output_type": "stream",
          "name": "stdout",
          "text": [
            "5\n"
          ]
        }
      ]
    },
    {
      "cell_type": "code",
      "source": [
        "import math \n",
        "\n",
        "my_int = 4.5467\n",
        "print (math.floor(my_int))\n"
      ],
      "metadata": {
        "colab": {
          "base_uri": "https://localhost:8080/"
        },
        "id": "mfd7VvpMdIZz",
        "outputId": "d31cad78-f487-408d-f11f-80be8b430c48"
      },
      "execution_count": null,
      "outputs": [
        {
          "output_type": "stream",
          "name": "stdout",
          "text": [
            "4\n"
          ]
        }
      ]
    },
    {
      "cell_type": "code",
      "source": [
        "##Building a mathematical calculator that can perform operations according to user input.\n",
        "\n",
        "print (\"Enter 1 for addition\")\n",
        "print (\"Enter 2 for subtraction\")\n",
        "print (\"Enter 3 for multiplication\")\n",
        "print (\"Enter 4 for division\")\n",
        "op = int(input(\"Enter number corresponding to operation:\"))\n",
        "a=int(input(\"Enter a: \"))\n",
        "b=int(input(\"Enter b: \"))\n",
        "if op == 1:\n",
        "  print(a + b)\n",
        "elif op == 2:\n",
        "  print(a - b)\n",
        "elif op == 3:\n",
        "  print(a * b)\n",
        "elif op == 4:\n",
        "  print(a / b)\n",
        "else:\n",
        "  print(\"Error\")\n"
      ],
      "metadata": {
        "colab": {
          "base_uri": "https://localhost:8080/"
        },
        "id": "a2JRxNCJdTqx",
        "outputId": "aff2afdc-7e48-4e2a-aff6-f7e8902f8cb5"
      },
      "execution_count": null,
      "outputs": [
        {
          "output_type": "stream",
          "name": "stdout",
          "text": [
            "Enter 1 for addition\n",
            "Enter 2 for subtraction\n",
            "Enter 3 for multiplication\n",
            "Enter 4 for division\n",
            "Enter number corresponding to operation:55\n",
            "Enter a: 5\n",
            "Enter b: 6\n",
            "Error\n"
          ]
        }
      ]
    },
    {
      "cell_type": "code",
      "source": [
        "##Printing all even numbers, odd numbers, count of even numbers, count of odd numbers within a given range.\n",
        "\n",
        "range = int(input(\"Enter range of numbers: \"))\n",
        "a = 1\n",
        "even = []\n",
        "odd = []\n",
        "while a <= range:\n",
        "  if a % 2 == 0:\n",
        "    even.append (a)\n",
        "    a = a + 1\n",
        "  else:\n",
        "    odd.append (a)\n",
        "    a = a + 1\n",
        "print (\"Even numbers are \",even)\n",
        "print (\"Odd numbers are \",odd)\n",
        "print (\"Number of even number within the given range are \",len(even))\n",
        "print (\"Number of odd number within the given range are \",len(odd))"
      ],
      "metadata": {
        "colab": {
          "base_uri": "https://localhost:8080/"
        },
        "id": "YnSwMMZrdnXY",
        "outputId": "5dd00966-4341-48b1-af51-d62ec251a5d4"
      },
      "execution_count": null,
      "outputs": [
        {
          "output_type": "stream",
          "name": "stdout",
          "text": [
            "Enter range of numbers: 5\n",
            "Even numbers are  [2, 4]\n",
            "Odd numbers are  [1, 3, 5]\n",
            "Number of even number within the given range are  2\n",
            "Number of odd number within the given range are  3\n"
          ]
        }
      ]
    },
    {
      "cell_type": "code",
      "source": [
        "# GCD\n",
        "num1 = int(input(\"Enter first number: \"))\n",
        "num2 = int(input(\"Enter second number: \"))\n",
        "a = 1\n",
        "b = 1\n",
        "fact1 = []\n",
        "fact2 = []\n",
        "\n",
        "trash1 = []\n",
        "trash2 = []\n",
        "\n",
        "common = []\n",
        "result = []\n",
        "#NUM1\n",
        "while a <= num1:\n",
        "  if num1 % a == 0:\n",
        "    fact1.append(a)\n",
        "    a = a + 1\n",
        "  else:\n",
        "    trash1.append(a)\n",
        "    a = a + 1\n",
        "#NUM2\n",
        "while b <= num2:\n",
        "  if num2 % b == 0:\n",
        "    fact2.append(b)\n",
        "    b = b + 1\n",
        "  else:\n",
        "    trash2.append(a)\n",
        "    b = b + 1\n",
        "common = (set(fact1).intersection(fact2))\n",
        "result = list(common)\n",
        "print(\"The HCF of\",num1,\"and\",num2,\"is\",result [-1])6"
      ],
      "metadata": {
        "colab": {
          "base_uri": "https://localhost:8080/"
        },
        "id": "4E450jW9eItv",
        "outputId": "5d2ae8a3-7991-46da-ba08-9c8007c4451b"
      },
      "execution_count": null,
      "outputs": [
        {
          "output_type": "stream",
          "name": "stdout",
          "text": [
            "Enter first number: 5\n",
            "Enter second number: 7\n",
            "The HCF of 5 and 7 is 1\n"
          ]
        }
      ]
    },
    {
      "cell_type": "code",
      "source": [
        "# Fibonacci\n",
        "nterms = int(input(\"How many terms? \"))\n",
        "n1, n2 = 0, 1\n",
        "count = 0\n",
        "if nterms <= 0:\n",
        "   print(\"Please enter a positive integer\")\n",
        "elif nterms == 1:\n",
        "   print(\"Fibonacci sequence upto\",nterms,\":\")\n",
        "   print(n1)\n",
        "else:\n",
        "   print(\"Fibonacci sequence:\")\n",
        "   while count < nterms:\n",
        "       print(n1)\n",
        "       nth = n1 + n2\n",
        "       \n",
        "       n1 = n2\n",
        "       n2 = nth\n",
        "       count += 1"
      ],
      "metadata": {
        "colab": {
          "base_uri": "https://localhost:8080/"
        },
        "id": "bg-FZmF-eY4F",
        "outputId": "5439c857-5bb3-4f72-a964-03ae50ad527a"
      },
      "execution_count": null,
      "outputs": [
        {
          "output_type": "stream",
          "name": "stdout",
          "text": [
            "How many terms? 5\n",
            "Fibonacci sequence:\n",
            "0\n",
            "1\n",
            "1\n",
            "2\n",
            "3\n"
          ]
        }
      ]
    },
    {
      "cell_type": "code",
      "source": [
        ""
      ],
      "metadata": {
        "id": "e8kk1Ih4egSM"
      },
      "execution_count": null,
      "outputs": []
    }
  ]
}