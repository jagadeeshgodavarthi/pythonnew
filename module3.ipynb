{
  "nbformat": 4,
  "nbformat_minor": 0,
  "metadata": {
    "colab": {
      "name": "module3.ipynb",
      "provenance": [],
      "collapsed_sections": [],
      "authorship_tag": "ABX9TyOL77crc9542ZfYpXNyvVvI",
      "include_colab_link": true
    },
    "kernelspec": {
      "name": "python3",
      "display_name": "Python 3"
    },
    "language_info": {
      "name": "python"
    }
  },
  "cells": [
    {
      "cell_type": "markdown",
      "metadata": {
        "id": "view-in-github",
        "colab_type": "text"
      },
      "source": [
        "<a href=\"https://colab.research.google.com/github/jagadeeshgodavarthi/pythonnew/blob/module-3/module3.ipynb\" target=\"_parent\"><img src=\"https://colab.research.google.com/assets/colab-badge.svg\" alt=\"Open In Colab\"/></a>"
      ]
    },
    {
      "cell_type": "code",
      "execution_count": null,
      "metadata": {
        "id": "aGvpStpe-4JH"
      },
      "outputs": [],
      "source": [
        "##read an entire text file.\n",
        "import pandas\n",
        "jagadeesh = {'companies':['Amazon','Wipro','Adantel','Adobe'],'location':['vjy','Vsp','Blr','hyd']}\n",
        "x = pandas.DataFrame(jagadeesh)\n",
        "print(x)"
      ]
    },
    {
      "cell_type": "code",
      "source": [
        "##read the first n lines of a file.\n",
        "import pandas as pd\n",
        "jagadeesh = {'companies':['Amazon','Wipro','Adantel','Adobe'],'location':['Hyd','Vsp','Blr','Chennai']}\n",
        "x = pd.DataFrame(jagadeesh)\n",
        "print(x)"
      ],
      "metadata": {
        "id": "cyDEJB27_Dn3"
      },
      "execution_count": null,
      "outputs": []
    },
    {
      "cell_type": "code",
      "source": [
        "##append text to a file and display the text.\n",
        "import pandas as pd\n",
        "marks = [98,32.9,41,28]\n",
        "jagadeesh = pd.Series(marks)\n",
        "print(jagadeesh)"
      ],
      "metadata": {
        "id": "5pDMb-gj_Dst"
      },
      "execution_count": null,
      "outputs": []
    },
    {
      "cell_type": "code",
      "source": [
        "Check version\n",
        "import pandas as pd\n",
        "\n",
        "print(pd.version)"
      ],
      "metadata": {
        "id": "-bL6nlkF_Du9"
      },
      "execution_count": null,
      "outputs": []
    },
    {
      "cell_type": "code",
      "source": [
        "#append text to a file and display the text.\n",
        "import pandas as pd\n",
        "marks = [98,32.9,41,28]\n",
        "jagadeesh = pd.Series(marks)\n",
        "print(jagadeesh)"
      ],
      "metadata": {
        "id": "sVc_5FpS_DxJ"
      },
      "execution_count": null,
      "outputs": []
    },
    {
      "cell_type": "code",
      "source": [
        "##x Count characters, words and lines in a text file.\n",
        "import pandas as pd\n",
        "marks = [28, 29.5, 15]\n",
        "jagadeesh = pd.Series(marks, index = [\"rohit\", \"virat\", \"bumurah\"])\n",
        "print(jagadeesh)"
      ],
      "metadata": {
        "id": "K9578CBJ_DzE"
      },
      "execution_count": null,
      "outputs": []
    },
    {
      "cell_type": "code",
      "source": [
        "##Write a Pandas program to read specific columns from a given excel file.\n",
        "import pandas as pd\n",
        "marks = [28, 29.5, 15]\n",
        "jagadeesh = pd.Series(marks, index = [\"rohit\", \"virat\", \"bumurah\"])\n",
        "print(jagadeesh)\n",
        "print(mymarks[\"rohit\"])"
      ],
      "metadata": {
        "id": "fd6T8Mnq_e9m"
      },
      "execution_count": null,
      "outputs": []
    },
    {
      "cell_type": "code",
      "source": [
        "##x To write a list to a file.\n",
        "import pandas as pd\n",
        "jagadeesh = {\"d1\": 12, \"d2\": 10, \"d3\": 8}\n",
        "x = pd.Series(jagadeesh)\n",
        "print(x)"
      ],
      "metadata": {
        "id": "wPFZnM-T_D0w"
      },
      "execution_count": null,
      "outputs": []
    },
    {
      "cell_type": "code",
      "source": [
        "##Print only limited data as per the labels:\n",
        "import pandas as pd\n",
        "jagadeesh = {\"d1\": 12, \"d2\": 10, \"d3\": 8}\n",
        "x = pd.Series(jagadeesh,index=[\"d1\",\"d2\"])\n",
        "print(x)"
      ],
      "metadata": {
        "id": "_5OhLj-I_D5z"
      },
      "execution_count": null,
      "outputs": []
    },
    {
      "cell_type": "code",
      "source": [
        "##Given a dataframe, select rows based on a condition.\n",
        "import pandas as pd\n",
        "jagadeesh = {\n",
        "  \"Employees\": [\"rohit\", \"virat\", \"bumurah\"],\n",
        "  \"Publications\": [50, 40, 45]\n",
        "}\n",
        "x = pd.DataFrame(jagadeesh)\n",
        "print(x)"
      ],
      "metadata": {
        "id": "2oq4epOe_D8a"
      },
      "execution_count": null,
      "outputs": []
    },
    {
      "cell_type": "code",
      "source": [
        "##Given a dataframe, select rows based on a condition.\n",
        "import pandas as pd\n",
        "empPublications = {\n",
        "  \"Employees\": [\"rohit\", \"virat\", \"bumurah\"],\n",
        "  \"Publications\": [50, 40, 45]\n",
        "}\n",
        "myvar = pd.DataFrame(empPublications,index=[\"2001\",\"2002\",\"2003\"])\n",
        "print(myvar)\n",
        "print(myvar.loc[\"2003\"])"
      ],
      "metadata": {
        "id": "HGicXZZUAHmI"
      },
      "execution_count": null,
      "outputs": []
    },
    {
      "cell_type": "code",
      "source": [
        "##x Given a CSV file or excel file to read it into a dataframe and display it.\n",
        "import pandas as pd\n",
        "df = pd.read_csv('jagadeesh.csv')\n",
        "print(df)"
      ],
      "metadata": {
        "id": "gGxDtYzdAHoe"
      },
      "execution_count": null,
      "outputs": []
    },
    {
      "cell_type": "code",
      "source": [
        "##Given is a dataframe showing the name, occupation, salary of people. Find the average salary per occupation.\n",
        "import pandas as pd\n",
        "df = pd.read_csv('jagadeesh.csv')\n",
        "print(df.to_string())"
      ],
      "metadata": {
        "id": "MiuUOW-DAHqI"
      },
      "execution_count": null,
      "outputs": []
    },
    {
      "cell_type": "code",
      "source": [
        "##x Given a dataframe, select rows based on a condition.\n",
        "import pandas as pd\n",
        "pd.options.display.max_rows = 9999\n",
        "df = pd.read_csv(‘jagadeesh.csv’)\n",
        "print(df)"
      ],
      "metadata": {
        "id": "80-eMw8DAHsl"
      },
      "execution_count": null,
      "outputs": []
    }
  ]
}