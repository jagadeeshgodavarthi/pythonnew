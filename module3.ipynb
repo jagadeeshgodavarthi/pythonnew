{
  "nbformat": 4,
  "nbformat_minor": 0,
  "metadata": {
    "colab": {
      "name": "module3.ipynb",
      "provenance": [],
      "collapsed_sections": [],
      "authorship_tag": "ABX9TyOtf2QwSABU7J0m8g1+tDVt",
      "include_colab_link": true
    },
    "kernelspec": {
      "name": "python3",
      "display_name": "Python 3"
    },
    "language_info": {
      "name": "python"
    }
  },
  "cells": [
    {
      "cell_type": "markdown",
      "metadata": {
        "id": "view-in-github",
        "colab_type": "text"
      },
      "source": [
        "<a href=\"https://colab.research.google.com/github/jagadeeshgodavarthi/pythonnew/blob/module-3/module3.ipynb\" target=\"_parent\"><img src=\"https://colab.research.google.com/assets/colab-badge.svg\" alt=\"Open In Colab\"/></a>"
      ]
    },
    {
      "cell_type": "code",
      "execution_count": null,
      "metadata": {
        "id": "aGvpStpe-4JH",
        "colab": {
          "base_uri": "https://localhost:8080/"
        },
        "outputId": "0b869a88-46e0-4c3f-8cc7-adea8386f619"
      },
      "outputs": [
        {
          "output_type": "stream",
          "name": "stdout",
          "text": [
            "  companies location\n",
            "0    Amazon      vjy\n",
            "1     Wipro      Vsp\n",
            "2   Adantel      Blr\n",
            "3     Adobe      hyd\n"
          ]
        }
      ],
      "source": [
        "##read an entire text file.\n",
        "import pandas\n",
        "jagadeesh = {'companies':['Amazon','Wipro','Adantel','Adobe'],'location':['vjy','Vsp','Blr','hyd']}\n",
        "x = pandas.DataFrame(jagadeesh)\n",
        "print(x)"
      ]
    },
    {
      "cell_type": "code",
      "source": [
        "##read the first n lines of a file.\n",
        "import pandas as pd\n",
        "jagadeesh = {'companies':['Amazon','Wipro','Adantel','Adobe'],'location':['Hyd','Vsp','Blr','Chennai']}\n",
        "x = pd.DataFrame(jagadeesh)\n",
        "print(x)"
      ],
      "metadata": {
        "id": "cyDEJB27_Dn3",
        "colab": {
          "base_uri": "https://localhost:8080/"
        },
        "outputId": "91619e3f-085b-4b6b-c621-8209a1848595"
      },
      "execution_count": null,
      "outputs": [
        {
          "output_type": "stream",
          "name": "stdout",
          "text": [
            "  companies location\n",
            "0    Amazon      Hyd\n",
            "1     Wipro      Vsp\n",
            "2   Adantel      Blr\n",
            "3     Adobe  Chennai\n"
          ]
        }
      ]
    },
    {
      "cell_type": "code",
      "source": [
        "##append text to a file and display the text.\n",
        "import pandas as pd\n",
        "marks = [98,32.9,41,28]\n",
        "jagadeesh = pd.Series(marks)\n",
        "print(jagadeesh)"
      ],
      "metadata": {
        "id": "5pDMb-gj_Dst",
        "colab": {
          "base_uri": "https://localhost:8080/"
        },
        "outputId": "f1227910-6daa-41b3-b030-2981857f5531"
      },
      "execution_count": null,
      "outputs": [
        {
          "output_type": "stream",
          "name": "stdout",
          "text": [
            "0    98.0\n",
            "1    32.9\n",
            "2    41.0\n",
            "3    28.0\n",
            "dtype: float64\n"
          ]
        }
      ]
    },
    {
      "cell_type": "code",
      "source": [
        "#append text to a file and display the text.\n",
        "import pandas as pd\n",
        "marks = [98,32.9,41,28]\n",
        "jagadeesh = pd.Series(marks)\n",
        "print(jagadeesh)"
      ],
      "metadata": {
        "id": "sVc_5FpS_DxJ",
        "colab": {
          "base_uri": "https://localhost:8080/"
        },
        "outputId": "0994d155-25cb-45aa-aa09-2c1295e005c5"
      },
      "execution_count": null,
      "outputs": [
        {
          "output_type": "stream",
          "name": "stdout",
          "text": [
            "0    98.0\n",
            "1    32.9\n",
            "2    41.0\n",
            "3    28.0\n",
            "dtype: float64\n"
          ]
        }
      ]
    },
    {
      "cell_type": "code",
      "source": [
        "##x Count characters, words and lines in a text file.\n",
        "import pandas as pd\n",
        "marks = [28, 29.5, 15]\n",
        "jagadeesh = pd.Series(marks, index = [\"rohit\", \"virat\", \"bumurah\"])\n",
        "print(jagadeesh)"
      ],
      "metadata": {
        "id": "K9578CBJ_DzE",
        "colab": {
          "base_uri": "https://localhost:8080/"
        },
        "outputId": "46c708c8-b7b8-4783-c275-8c0b3f048896"
      },
      "execution_count": null,
      "outputs": [
        {
          "output_type": "stream",
          "name": "stdout",
          "text": [
            "rohit      28.0\n",
            "virat      29.5\n",
            "bumurah    15.0\n",
            "dtype: float64\n"
          ]
        }
      ]
    },
    {
      "cell_type": "code",
      "source": [
        "##Write a Pandas program to read specific columns from a given excel file.\n",
        " import pandas as pd\n",
        "marks = [28, 29.5, 15]\n",
        "jagadeesh = pd.Series(marks, index = [\"rohit\", \"virat\", \"bumurah\"])\n",
        "print(jagadeesh)\n",
        "print(marks[\"rohit\"])"
      ],
      "metadata": {
        "id": "fd6T8Mnq_e9m"
      },
      "execution_count": 34,
      "outputs": []
    },
    {
      "cell_type": "code",
      "source": [
        "##x To write a list to a file.\n",
        "import pandas as pd\n",
        "jagadeesh = {\"d1\": 12, \"d2\": 10, \"d3\": 8}\n",
        "x = pd.Series(jagadeesh)\n",
        "print(x)"
      ],
      "metadata": {
        "id": "wPFZnM-T_D0w",
        "colab": {
          "base_uri": "https://localhost:8080/"
        },
        "outputId": "677c514f-380a-41c0-c899-ea29ec7bb5bc"
      },
      "execution_count": null,
      "outputs": [
        {
          "output_type": "stream",
          "name": "stdout",
          "text": [
            "d1    12\n",
            "d2    10\n",
            "d3     8\n",
            "dtype: int64\n"
          ]
        }
      ]
    },
    {
      "cell_type": "code",
      "source": [
        "##Print only limited data as per the labels:\n",
        "import pandas as pd\n",
        "jagadeesh = {\"d1\": 12, \"d2\": 10, \"d3\": 8}\n",
        "x = pd.Series(jagadeesh,index=[\"d1\",\"d2\"])\n",
        "print(x)"
      ],
      "metadata": {
        "id": "_5OhLj-I_D5z",
        "colab": {
          "base_uri": "https://localhost:8080/"
        },
        "outputId": "2596a465-6bff-444a-a95b-2e69bff4adf5"
      },
      "execution_count": null,
      "outputs": [
        {
          "output_type": "stream",
          "name": "stdout",
          "text": [
            "d1    12\n",
            "d2    10\n",
            "dtype: int64\n"
          ]
        }
      ]
    },
    {
      "cell_type": "code",
      "source": [
        "##Given a dataframe, select rows based on a condition.\n",
        "import pandas as pd\n",
        "jagadeesh = {\n",
        "  \"Employees\": [\"rohit\", \"virat\", \"bumurah\"],\n",
        "  \"Publications\": [50, 40, 45]\n",
        "}\n",
        "x = pd.DataFrame(jagadeesh)\n",
        "print(x)"
      ],
      "metadata": {
        "id": "2oq4epOe_D8a",
        "colab": {
          "base_uri": "https://localhost:8080/"
        },
        "outputId": "d05f4698-e95e-4026-a7d4-4b50a9bdda14"
      },
      "execution_count": null,
      "outputs": [
        {
          "output_type": "stream",
          "name": "stdout",
          "text": [
            "  Employees  Publications\n",
            "0     rohit            50\n",
            "1     virat            40\n",
            "2   bumurah            45\n"
          ]
        }
      ]
    },
    {
      "cell_type": "code",
      "source": [
        "##Given a dataframe, select rows based on a condition.\n",
        "import pandas as pd\n",
        "empPublications = {\n",
        "  \"Employees\": [\"rohit\", \"virat\", \"bumurah\"],\n",
        "  \"Publications\": [50, 40, 45]\n",
        "}\n",
        "myvar = pd.DataFrame(empPublications,index=[\"2001\",\"2002\",\"2003\"])\n",
        "print(myvar)\n",
        "print(myvar.loc[\"2003\"])"
      ],
      "metadata": {
        "id": "HGicXZZUAHmI",
        "colab": {
          "base_uri": "https://localhost:8080/"
        },
        "outputId": "309588ef-0359-4d6e-bfda-734617354487"
      },
      "execution_count": null,
      "outputs": [
        {
          "output_type": "stream",
          "name": "stdout",
          "text": [
            "     Employees  Publications\n",
            "2001     rohit            50\n",
            "2002     virat            40\n",
            "2003   bumurah            45\n",
            "Employees       bumurah\n",
            "Publications         45\n",
            "Name: 2003, dtype: object\n"
          ]
        }
      ]
    },
    {
      "cell_type": "code",
      "source": [
        "##x Given a CSV file or excel file to read it into a dataframe and display it.\n",
        "import pandas as pd\n",
        "df = pd.read_csv('jagadeesh.csv')\n",
        "print(df)"
      ],
      "metadata": {
        "id": "gGxDtYzdAHoe"
      },
      "execution_count": null,
      "outputs": []
    },
    {
      "cell_type": "code",
      "source": [
        "##x Given a dataframe, select rows based on a condition.\n",
        "import pandas as pd\n",
        "  \n",
        "record = {\n",
        "  \n",
        " 'Name': ['Ankit', 'Amit', 'Aishwarya', 'Priyanka', 'Priya', 'Shaurya' ],\n",
        " 'Age': [21, 19, 20, 18, 17, 21],\n",
        " 'Stream': ['Math', 'Commerce', 'Science', 'Math', 'Math', 'Science'],\n",
        " 'Percentage': [88, 92, 95, 70, 65, 78] }\n",
        "  \n",
        "\n",
        "dataframe = pd.DataFrame(record, columns = ['Name', 'Age', 'Stream', 'Percentage'])\n",
        "  \n",
        "print(\"Given Dataframe :\\n\", dataframe) \n",
        "  \n",
        "rslt_df = dataframe[dataframe['Percentage'] > 80]\n",
        "  \n",
        "print('\\nResult dataframe :\\n', rslt_df)"
      ],
      "metadata": {
        "id": "80-eMw8DAHsl",
        "colab": {
          "base_uri": "https://localhost:8080/"
        },
        "outputId": "dad10ebf-e962-4121-8173-9ebd225ce70d"
      },
      "execution_count": null,
      "outputs": [
        {
          "output_type": "stream",
          "name": "stdout",
          "text": [
            "Given Dataframe :\n",
            "         Name  Age    Stream  Percentage\n",
            "0      Ankit   21      Math          88\n",
            "1       Amit   19  Commerce          92\n",
            "2  Aishwarya   20   Science          95\n",
            "3   Priyanka   18      Math          70\n",
            "4      Priya   17      Math          65\n",
            "5    Shaurya   21   Science          78\n",
            "\n",
            "Result dataframe :\n",
            "         Name  Age    Stream  Percentage\n",
            "0      Ankit   21      Math          88\n",
            "1       Amit   19  Commerce          92\n",
            "2  Aishwarya   20   Science          95\n"
          ]
        }
      ]
    }
  ]
}