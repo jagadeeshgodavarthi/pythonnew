{
  "nbformat": 4,
  "nbformat_minor": 0,
  "metadata": {
    "colab": {
      "name": "reg.ipynb",
      "provenance": [],
      "collapsed_sections": [],
      "authorship_tag": "ABX9TyO9ZqbslkPrgm0gBptEFRGw",
      "include_colab_link": true
    },
    "kernelspec": {
      "name": "python3",
      "display_name": "Python 3"
    },
    "language_info": {
      "name": "python"
    }
  },
  "cells": [
    {
      "cell_type": "markdown",
      "metadata": {
        "id": "view-in-github",
        "colab_type": "text"
      },
      "source": [
        "<a href=\"https://colab.research.google.com/github/jagadeeshgodavarthi/pythonnew/blob/module-5/reg.ipynb\" target=\"_parent\"><img src=\"https://colab.research.google.com/assets/colab-badge.svg\" alt=\"Open In Colab\"/></a>"
      ]
    },
    {
      "cell_type": "code",
      "execution_count": null,
      "metadata": {
        "colab": {
          "base_uri": "https://localhost:8080/"
        },
        "id": "_5VHQWQYMAlo",
        "outputId": "40847cbb-5594-49dc-e27d-a22c1ce5fc41"
      },
      "outputs": [
        {
          "output_type": "stream",
          "name": "stdout",
          "text": [
            "found\n"
          ]
        }
      ],
      "source": [
        "import re\n",
        "\n",
        "txt = \"The rain in Spain\"\n",
        "x = re.search(\"^The.*Spain$\", txt)\n",
        "if \"rain\" in txt:\n",
        "     print(\"found\")\n",
        "else:\n",
        "     print(\"not found\")\n",
        "            "
      ]
    },
    {
      "cell_type": "markdown",
      "source": [
        "Sharma scored ODI double-hundreds for fun, won five IPLs in its first 12 editions, scored five hundreds at the 2019 ODI World Cup, and when he finally got to open in Tests in 2019, three quick hundreds in his first series, one of them a double. Sharma became one of the colossal six-hitters of his era. So spectacular and certain was his acceleration that people began anticipate a double-century every time he went past a score of 50.\n"
      ],
      "metadata": {
        "id": "TahpU7sjPrWf"
      }
    },
    {
      "cell_type": "code",
      "source": [
        "import re\n",
        "txt=\"Sharma scored ODI double-hundreds for fun, won five IPLs in its first 12 editions, scored five hundreds at the 2019 ODI World Cup, and when he finally got to open in Tests in 2019, three quick hundreds in his first series, one of them a double. Sharma became one of the colossal six-hitters of his era. So spectacular and certain was his acceleration that people began anticipate a double-century every time he went past a score of 50.\"\n",
        "x=re.search(\"won five\",txt)\n",
        "\n",
        "if x:\n",
        "  print(\"match found\")\n",
        "else:\n",
        "  print(\"match not found\")\n"
      ],
      "metadata": {
        "colab": {
          "base_uri": "https://localhost:8080/"
        },
        "id": "TrLY2W1XPtVW",
        "outputId": "874de091-5b0b-481c-f087-0288558a23b0"
      },
      "execution_count": null,
      "outputs": [
        {
          "output_type": "stream",
          "name": "stdout",
          "text": [
            "match found\n"
          ]
        }
      ]
    },
    {
      "cell_type": "markdown",
      "source": [
        ""
      ],
      "metadata": {
        "id": "26VVGcaPTe0m"
      }
    },
    {
      "cell_type": "code",
      "source": [
        "import re\n",
        "txt=\"A topic sentence is the first sentence of the body paragraph. Simply put, the topic sentence introduces the topic of the paragraph. A good topic sentence will be broad enough to allow for explication but narrow enough that it does not require a paragraph that is too long.\"\n",
        "x=re.search(\"topic\",txt)\n",
        "if x:\n",
        "  print(\"match found\")\n",
        "else:\n",
        "  print(\"match not found\")\n"
      ],
      "metadata": {
        "colab": {
          "base_uri": "https://localhost:8080/"
        },
        "id": "A6IiCI_iSxyn",
        "outputId": "f87d535e-1bd3-4cc8-f035-54f0a5f48608"
      },
      "execution_count": null,
      "outputs": [
        {
          "output_type": "stream",
          "name": "stdout",
          "text": [
            "match found\n"
          ]
        }
      ]
    },
    {
      "cell_type": "code",
      "source": [
        "import re \n",
        "txt=\"A topic sentence is the first sentence of the body paragraph.\"\n",
        "x = re.split(\"\\s\", txt)\n",
        "print(x)"
      ],
      "metadata": {
        "colab": {
          "base_uri": "https://localhost:8080/"
        },
        "id": "Yn3nikd1VUbG",
        "outputId": "32700a03-1e73-4ac0-b930-8da9828fb199"
      },
      "execution_count": null,
      "outputs": [
        {
          "output_type": "stream",
          "name": "stdout",
          "text": [
            "['A', 'topic', 'sentence', 'is', 'the', 'first', 'sentence', 'of', 'the', 'body', 'paragraph.']\n"
          ]
        }
      ]
    },
    {
      "cell_type": "code",
      "source": [
        "#Split the string at the first white-space character:\n",
        "import re\n",
        "txt = \"Not Sure Where To Begin\"\n",
        "x = re.split(\"\\s\", txt, 1)\n",
        "print(x)"
      ],
      "metadata": {
        "colab": {
          "base_uri": "https://localhost:8080/"
        },
        "id": "UW-WxUeHm75A",
        "outputId": "a189e20b-066c-4bb3-b5dd-afa8ba90b37d"
      },
      "execution_count": 2,
      "outputs": [
        {
          "output_type": "stream",
          "name": "stdout",
          "text": [
            "['Not', 'Sure Where To Begin']\n"
          ]
        }
      ]
    },
    {
      "cell_type": "code",
      "source": [
        "#Replace all white-space characters with the digit \"6\":\n",
        "import re\n",
        "txt = \"Not Sure Where To Begin\"\n",
        "x = re.sub(\"\\s\", \"6\", txt)\n",
        "print(x)"
      ],
      "metadata": {
        "colab": {
          "base_uri": "https://localhost:8080/"
        },
        "id": "fPRRsYWSm8Fk",
        "outputId": "0c88a325-b5fd-4872-e2d1-f18df135df6b"
      },
      "execution_count": 3,
      "outputs": [
        {
          "output_type": "stream",
          "name": "stdout",
          "text": [
            "Not6Sure6Where6To6Begin\n"
          ]
        }
      ]
    },
    {
      "cell_type": "code",
      "source": [
        "#Replace the first two occurrences of a white-space character with the digit 3:\n",
        "import re\n",
        "txt = \"The rain in Spain\"\n",
        "x = re.sub(\"\\s\", \"3\", txt, 2)\n",
        "print(x)"
      ],
      "metadata": {
        "colab": {
          "base_uri": "https://localhost:8080/"
        },
        "id": "gEomzmVYm8gu",
        "outputId": "9f96a0b5-a2c8-4ab5-a86e-ebde836dea50"
      },
      "execution_count": 5,
      "outputs": [
        {
          "output_type": "stream",
          "name": "stdout",
          "text": [
            "The3rain3in Spain\n"
          ]
        }
      ]
    },
    {
      "cell_type": "code",
      "source": [
        "#The search() function returns a Match object:\n",
        "import re\n",
        "txt = \"Not Sure Where To Begin\"\n",
        "x = re.search(\"ai\", txt)\n",
        "print(x)"
      ],
      "metadata": {
        "colab": {
          "base_uri": "https://localhost:8080/"
        },
        "id": "eI-kMxo7oBqW",
        "outputId": "4963c3a6-6fcd-4e1d-8a9c-f96ddbcd6207"
      },
      "execution_count": 6,
      "outputs": [
        {
          "output_type": "stream",
          "name": "stdout",
          "text": [
            "None\n"
          ]
        }
      ]
    },
    {
      "cell_type": "code",
      "source": [
        "#Search for an upper case \"S\" character in the beginning of a word, and print the word:\n",
        "import re\n",
        "txt = \"Not Sure Where To Begin\"\n",
        "x = re.search(r\"\\bS\\w+\", txt)\n",
        "print(x.group())\n"
      ],
      "metadata": {
        "colab": {
          "base_uri": "https://localhost:8080/"
        },
        "id": "LjME401DoFvz",
        "outputId": "b61de9fe-94b0-4f5f-ede6-596cdcda686c"
      },
      "execution_count": 7,
      "outputs": [
        {
          "output_type": "stream",
          "name": "stdout",
          "text": [
            "Sure\n"
          ]
        }
      ]
    }
  ]
}