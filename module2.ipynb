{
  "nbformat": 4,
  "nbformat_minor": 0,
  "metadata": {
    "colab": {
      "name": "module2.ipynb",
      "provenance": [],
      "collapsed_sections": [],
      "authorship_tag": "ABX9TyPuf41sMF1ACGwWEbB1zrYU",
      "include_colab_link": true
    },
    "kernelspec": {
      "name": "python3",
      "display_name": "Python 3"
    },
    "language_info": {
      "name": "python"
    }
  },
  "cells": [
    {
      "cell_type": "markdown",
      "metadata": {
        "id": "view-in-github",
        "colab_type": "text"
      },
      "source": [
        "<a href=\"https://colab.research.google.com/github/jagadeeshgodavarthi/pythonnew/blob/module-2/module2.ipynb\" target=\"_parent\"><img src=\"https://colab.research.google.com/assets/colab-badge.svg\" alt=\"Open In Colab\"/></a>"
      ]
    },
    {
      "cell_type": "code",
      "source": [
        "##Recursive function to compute GCD of 2 number\n",
        "def Diff(A, B):\n",
        "   print(\"Difference of two lists ::>\")\n",
        "   return (list(set(A) - set(B))) \n",
        "\n",
        "# Driver Code \n",
        "A=list()\n",
        "n1=int(input(\"Enter the size of the first List ::\"))\n",
        "\n",
        "print(\"Enter the Element of first List ::\")\n",
        "for i in range(int(n1)):\n",
        "   k=int(input(\"\"))\n",
        "   A.append(k)\n",
        "B=list()\n",
        "n2=int(input(\"Enter the size of the second List ::\"))\n",
        "print(\"Enter the Element of second List ::\")\n",
        "for i in range(int(n2)):\n",
        "        k=int(input(\"\"))\n",
        "         B.append(k)\n",
        "print(Diff(A, B))"
      ],
      "metadata": {
        "id": "19e14IqL27io"
      },
      "execution_count": null,
      "outputs": []
    },
    {
      "cell_type": "code",
      "source": [
        "##Python program to create a list of tuples having first element as the number and second element as the square of the number\n",
        "list1 =[1,4,5,8]\n",
        "res = [(val, pow(val, 2)) for val in list1]\n",
        "print(res)\n"
      ],
      "metadata": {
        "colab": {
          "base_uri": "https://localhost:8080/"
        },
        "id": "Ov7sz8l53hFR",
        "outputId": "0022e52a-0554-4422-b747-51805f7b25ad"
      },
      "execution_count": null,
      "outputs": [
        {
          "output_type": "stream",
          "name": "stdout",
          "text": [
            "[(1, 1), (4, 16), (5, 25), (8, 64)]\n"
          ]
        }
      ]
    },
    {
      "cell_type": "code",
      "source": [
        "## Program to remove a key from a dictionary\n",
        "x = {'a':1,'b':2,'c':3,'d':4}\n",
        "print(x)\n",
        "if 'a' in x: \n",
        "    del x ['a']\n",
        "print(x)"
      ],
      "metadata": {
        "colab": {
          "base_uri": "https://localhost:8080/"
        },
        "id": "9T_WoK_D5QsI",
        "outputId": "7043f868-3dfc-496b-f900-bb4f0927b04a"
      },
      "execution_count": null,
      "outputs": [
        {
          "output_type": "stream",
          "name": "stdout",
          "text": [
            "{'a': 1, 'b': 2, 'c': 3, 'd': 4}\n",
            "{'b': 2, 'c': 3, 'd': 4}\n"
          ]
        }
      ]
    },
    {
      "cell_type": "code",
      "source": [
        "##Given list of tuples, remove all the tuples with length K. \n",
        "\n",
        "test_list = [(4, 5), (4, ), (8, 6, 7), (1, ), (3, 4, 6, 7)]\n",
        "print(\"The original list : \" + str(test_list))\n",
        "K=1\n",
        "res = [ele for ele in test_list if len(ele) != K]\n",
        "print(\"Filtered list : \" + str(res))"
      ],
      "metadata": {
        "colab": {
          "base_uri": "https://localhost:8080/"
        },
        "id": "CJ-dw8tq5x_I",
        "outputId": "45142b08-ac65-4f75-fcf3-f9e505a60456"
      },
      "execution_count": null,
      "outputs": [
        {
          "output_type": "stream",
          "name": "stdout",
          "text": [
            "The original list : [(4, 5), (4,), (8, 6, 7), (1,), (3, 4, 6, 7)]\n",
            "Filtered list : [(4, 5), (8, 6, 7), (3, 4, 6, 7)]\n"
          ]
        }
      ]
    },
    {
      "cell_type": "code",
      "source": [
        "##Program to get the maximum and minimum value in a dictionary\n",
        "dictionary = {\"a\": 10, \"b\": 2, \"c\": 6}\n",
        "min_key = min(dictionary, key=dictionary.get)\n",
        " \n",
        "print(min_key)\n",
        "\n",
        "print(dictionary.get(min_key))"
      ],
      "metadata": {
        "colab": {
          "base_uri": "https://localhost:8080/"
        },
        "id": "2x7YV3N16FQP",
        "outputId": "8eb207c8-9b2d-4cac-c45a-0ad0fcdd0e4c"
      },
      "execution_count": null,
      "outputs": [
        {
          "output_type": "stream",
          "name": "stdout",
          "text": [
            "b\n",
            "2\n"
          ]
        }
      ]
    },
    {
      "cell_type": "code",
      "source": [
        "##Program to Acronym generator for any user input\n",
        "class Solution:\n",
        "   def solve(self, s):\n",
        "      tokens=s.split()\n",
        "      string=\"\"\n",
        "      for word in tokens:\n",
        "         if word != \"and\":\n",
        "            string += str(word[0])\n",
        "      return string.upper()\n",
        "ob = Solution()\n",
        "print(ob.solve(\"bcci\"))"
      ],
      "metadata": {
        "colab": {
          "base_uri": "https://localhost:8080/"
        },
        "id": "K4Dp21_66aLF",
        "outputId": "852efb42-5304-4910-8544-72f2f348df3e"
      },
      "execution_count": null,
      "outputs": [
        {
          "output_type": "stream",
          "name": "stdout",
          "text": [
            "B\n"
          ]
        }
      ]
    },
    {
      "cell_type": "code",
      "source": [
        "# Function to replace all occurrences of AB with C\n",
        "  \n",
        "def replaceABwithC(input, pattern, replaceWith):\n",
        "    return input.replace(pattern, replaceWith)\n",
        "  \n",
        "# Driver program\n",
        "if __name__ == \"__main__\":\n",
        "    input   = 'the game'\n",
        "    pattern = 'game'\n",
        "    replaceWith = 'cricket'\n",
        "    print (replaceABwithC(input,pattern,replaceWith))\n"
      ],
      "metadata": {
        "colab": {
          "base_uri": "https://localhost:8080/"
        },
        "id": "JAO1uCG287_X",
        "outputId": "93d9024f-f729-44b0-c840-0e4cd1811a7d"
      },
      "execution_count": null,
      "outputs": [
        {
          "output_type": "stream",
          "name": "stdout",
          "text": [
            "the cricket\n"
          ]
        }
      ]
    },
    {
      "cell_type": "code",
      "source": [
        "##replace a string with another one\n",
        "txt = \"I like orange\"\n",
        "\n",
        "a = txt.replace(\"orange\", \"grapes\")\n",
        "\n",
        "print(a)\n",
        "\n"
      ],
      "metadata": {
        "colab": {
          "base_uri": "https://localhost:8080/"
        },
        "id": "pciy5y9a-rL3",
        "outputId": "1ef4c2b6-999d-4491-bc67-b5da51824861"
      },
      "execution_count": null,
      "outputs": [
        {
          "output_type": "stream",
          "name": "stdout",
          "text": [
            "I like grapes\n"
          ]
        }
      ]
    },
    {
      "cell_type": "code",
      "source": [
        "##Program to count the number of strings where the string length is 2 or more and the first and last character are same from a given list of strings \n",
        "def match_words(words):\n",
        "  ctr = 0\n",
        "\n",
        "  for word in words:\n",
        "    if len(word) > 1 and word[0] == word[-1]:\n",
        "      ctr += 1\n",
        "  return ctr\n",
        "\n",
        "print(match_words(['abc', 'xyz', 'aba', '1221']))"
      ],
      "metadata": {
        "id": "GwXvW6Mt_FWm",
        "colab": {
          "base_uri": "https://localhost:8080/"
        },
        "outputId": "bc53d4fc-a5cc-4e02-8972-8d43ab25f553"
      },
      "execution_count": null,
      "outputs": [
        {
          "output_type": "stream",
          "name": "stdout",
          "text": [
            "2\n"
          ]
        }
      ]
    },
    {
      "cell_type": "code",
      "source": [
        ""
      ],
      "metadata": {
        "id": "euEJhvsmOXpl"
      },
      "execution_count": null,
      "outputs": []
    },
    {
      "cell_type": "code",
      "source": [
        "##Program to get the maximum and minimum value in a dictionary\n",
        "my_dict = {'x':500, 'y':5874, 'z': 560}\n",
        "\n",
        "key_max = max(my_dict.keys(), key=(lambda k: my_dict[k]))\n",
        "key_min = min(my_dict.keys(), key=(lambda k: my_dict[k]))\n",
        "\n",
        "print('Maximum Value: ',my_dict[key_max])\n",
        "print('Minimum Value: ',my_dict[key_min])"
      ],
      "metadata": {
        "id": "QCSIkG6iOzjl"
      },
      "execution_count": null,
      "outputs": []
    },
    {
      "cell_type": "code",
      "source": [
        "##Python function that accepts a string and calculates the number of uppercase letters and lowercase letters\n",
        "def string_test(s):\n",
        "    d={\"UPPER_CASE\":0, \"LOWER_CASE\":0}\n",
        "    for c in s:\n",
        "        if c.isupper():\n",
        "           d[\"UPPER_CASE\"]+=1\n",
        "        elif c.islower():\n",
        "           d[\"LOWER_CASE\"]+=1\n",
        "        else:\n",
        "           pass\n",
        "    print (\"Original String : \", s)\n",
        "    print (\"No. of Upper case characters : \", d[\"UPPER_CASE\"])\n",
        "    print (\"No. of Lower case Characters : \", d[\"LOWER_CASE\"])\n",
        "\n",
        "string_test('The quick Brown Fox')\n"
      ],
      "metadata": {
        "colab": {
          "base_uri": "https://localhost:8080/"
        },
        "id": "16pbLPacNXCH",
        "outputId": "6f0db5f5-cee8-4c00-d62d-f30e4e6fae69"
      },
      "execution_count": null,
      "outputs": [
        {
          "output_type": "stream",
          "name": "stdout",
          "text": [
            "Original String :  The quick Brown Fox\n",
            "No. of Upper case characters :  3\n",
            "No. of Lower case Characters :  13\n"
          ]
        }
      ]
    },
    {
      "cell_type": "code",
      "source": [
        "##Program to generate and print a dictionary that contains a number \n",
        "n=int(input(\"Input a number \"))\n",
        "d = dict()\n",
        "\n",
        "for x in range(1,n+1):\n",
        "    d[x]=x*x\n",
        "\n",
        "print(d) "
      ],
      "metadata": {
        "colab": {
          "base_uri": "https://localhost:8080/"
        },
        "id": "0v8Rly0NPBlm",
        "outputId": "38502519-0502-47cd-8cd7-6ab342deb8a9"
      },
      "execution_count": null,
      "outputs": [
        {
          "output_type": "stream",
          "name": "stdout",
          "text": [
            "Input a number 5\n",
            "{1: 1, 2: 4, 3: 9, 4: 16, 5: 25}\n"
          ]
        }
      ]
    },
    {
      "cell_type": "code",
      "source": [
        "##Create a function which accepts two inputs from the user and compute nCr\n",
        "def fact(z):  \n",
        "    f = 1  \n",
        "    if z == 0:  \n",
        "        return f;  \n",
        "    else:  \n",
        "        for i in range(1,z+1):  \n",
        "            f = f * i;  \n",
        "        return f;  \n",
        "  \n",
        "  \n",
        "n=int(input(\"Enter the value of n\"))  \n",
        "r = int(input(\"Enter the value of r\"))  \n",
        "nCr = fact(n) / (fact(r) * fact(n - r));  \n",
        "print(\"\\nnCr = %d\" %(nCr));  "
      ],
      "metadata": {
        "colab": {
          "base_uri": "https://localhost:8080/"
        },
        "id": "d6JFOmJyPsQt",
        "outputId": "23a873e3-0199-415b-9849-7e90d97abdc6"
      },
      "execution_count": null,
      "outputs": [
        {
          "output_type": "stream",
          "name": "stdout",
          "text": [
            "Enter the value of n5\n",
            "Enter the value of r2\n",
            "\n",
            "nCr = 10\n"
          ]
        }
      ]
    },
    {
      "cell_type": "code",
      "source": [
        ""
      ],
      "metadata": {
        "id": "aXKmsV0ERp_7"
      },
      "execution_count": null,
      "outputs": []
    }
  ]
}